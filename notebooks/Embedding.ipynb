{
 "cells": [
  {
   "cell_type": "code",
   "execution_count": null,
   "id": "e1b283ab-5ab6-4092-8646-b9f08e1afc48",
   "metadata": {},
   "outputs": [],
   "source": [
    "from ipywidgets import Button, Layout, GridBox, Layout, ButtonStyle"
   ]
  },
  {
   "cell_type": "code",
   "execution_count": null,
   "id": "7dca58c9-27a3-46b4-b300-99591e4d176b",
   "metadata": {},
   "outputs": [],
   "source": [
    "blueB  = Button(description='BLUE',\n",
    "                 layout=Layout(width='100%', height=\"100%\"),\n",
    "                 style=ButtonStyle(button_color='blue'))\n",
    "yellowB    = Button(description='YELLOW',\n",
    "                 layout=Layout(width='100%', height=\"100%\"),\n",
    "                 style=ButtonStyle(button_color='yellow'))\n",
    "redB = Button(description='RED',\n",
    "                 layout=Layout(width='100%', height=\"100%\"),\n",
    "                 style=ButtonStyle(button_color='red'))\n",
    "greenB  = Button(description='GREEN',\n",
    "                 layout=Layout(width='100%', height=\"100%\"),\n",
    "                 style=ButtonStyle(button_color='green'))"
   ]
  },
  {
   "cell_type": "code",
   "execution_count": null,
   "id": "05ac8c74-fb55-4901-b611-6bad2aacbfc4",
   "metadata": {},
   "outputs": [],
   "source": [
    "from custom_ipywidgets import Embedding\n",
    "\n",
    "embed = Embedding([\n",
    "    [3, 1, 1, 4], \n",
    "    [3, 1, 1, 4],\n",
    "    [2, 2, 0, 4]\n",
    "])\n",
    "embed.add(blueB, 1)\n",
    "embed.add(yellowB, 2)\n",
    "embed.add(redB, 3)\n",
    "embed.add(greenB, 4)\n",
    "embed"
   ]
  },
  {
   "cell_type": "code",
   "execution_count": null,
   "id": "7e7f6f6e-685d-4e89-a083-7450b37248ce",
   "metadata": {},
   "outputs": [],
   "source": [
    "import seaborn as sns\n",
    "from custom_ipywidgets import BarPlot, ScatterPlot\n",
    "import pandas as pd\n",
    "data = sns.load_dataset(\"titanic\")\n",
    "data = data.to_dict(orient='records')\n",
    "barplot = BarPlot(x = \"sex\", y = \"survived\", data = data, hue=\"sex\")\n",
    "\n",
    "data0 = pd.read_csv(\"../data/ScatterPlot/tsne_results.csv\")\n",
    "data0  = data0.to_dict(orient='records')\n",
    "x0 = \"tsne-2d-one\"\n",
    "y0 = \"tsne-2d-two\"\n",
    "hue0 = \"y\"\n",
    "scatterplot = ScatterPlot(\n",
    "    data = data0,\n",
    "    x = x0,\n",
    "    y = y0,\n",
    "    hue = hue0\n",
    ")\n",
    "scatterplot"
   ]
  }
 ],
 "metadata": {
  "kernelspec": {
   "display_name": "Python 3 (ipykernel)",
   "language": "python",
   "name": "python3"
  },
  "language_info": {
   "codemirror_mode": {
    "name": "ipython",
    "version": 3
   },
   "file_extension": ".py",
   "mimetype": "text/x-python",
   "name": "python",
   "nbconvert_exporter": "python",
   "pygments_lexer": "ipython3",
   "version": "3.10.12"
  }
 },
 "nbformat": 4,
 "nbformat_minor": 5
}
