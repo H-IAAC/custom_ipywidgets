{
 "cells": [
  {
   "cell_type": "code",
   "execution_count": null,
   "id": "7e7f6f6e-685d-4e89-a083-7450b37248ce",
   "metadata": {},
   "outputs": [],
   "source": [
    "import seaborn as sns\n",
    "from custom_ipywidgets import BarPlot, ScatterPlot\n",
    "import pandas as pd\n",
    "data = sns.load_dataset(\"titanic\")\n",
    "data = data.to_dict(orient='records')\n",
    "barplot = BarPlot(x = \"sex\", y = \"survived\", data = data, hue=\"sex\")\n",
    "\n",
    "data0 = pd.read_csv(\"../data/ScatterPlot/tsne_results.csv\")\n",
    "data0  = data0.to_dict(orient='records')\n",
    "x0 = \"tsne-2d-one\"\n",
    "y0 = \"tsne-2d-two\"\n",
    "hue0 = \"y\"\n",
    "scatterplot = ScatterPlot(\n",
    "    data = data0,\n",
    "    x = x0,\n",
    "    y = y0,\n",
    "    hue = hue0\n",
    ")"
   ]
  },
  {
   "cell_type": "code",
   "execution_count": null,
   "id": "05ac8c74-fb55-4901-b611-6bad2aacbfc4",
   "metadata": {},
   "outputs": [],
   "source": [
    "from custom_ipywidgets import Embedding\n",
    "\n",
    "matrix = [\n",
    "    [3, 1, 1, 4], \n",
    "    [3, 1, 1, 4],\n",
    "    [2, 2, 0, 4]\n",
    "]\n",
    "# matrix = [[1,2],[1,2]]\n",
    "embed = Embedding(matrix)\n",
    "embed\n"
   ]
  },
  {
   "cell_type": "code",
   "execution_count": null,
   "id": "e24abd2b-e796-4979-9db9-6fcb8baf6a81",
   "metadata": {},
   "outputs": [],
   "source": [
    "embed.add(scatterplot, 4)"
   ]
  }
 ],
 "metadata": {
  "kernelspec": {
   "display_name": "Python 3 (ipykernel)",
   "language": "python",
   "name": "python3"
  },
  "language_info": {
   "codemirror_mode": {
    "name": "ipython",
    "version": 3
   },
   "file_extension": ".py",
   "mimetype": "text/x-python",
   "name": "python",
   "nbconvert_exporter": "python",
   "pygments_lexer": "ipython3",
   "version": "3.10.12"
  }
 },
 "nbformat": 4,
 "nbformat_minor": 5
}
