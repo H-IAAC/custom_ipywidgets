{
 "cells": [
  {
   "cell_type": "code",
   "execution_count": null,
   "id": "7e7f6f6e-685d-4e89-a083-7450b37248ce",
   "metadata": {},
   "outputs": [],
   "source": [
    "import seaborn as sns\n",
    "from custom_ipywidgets import BarPlot, ScatterPlot, HistogramPlot, LinearHistPlot\n",
    "from sklearn.inspection import partial_dependence\n",
    "from sklearn.ensemble import RandomForestRegressor\n",
    "import pandas as pd\n",
    "\n",
    "\n",
    "df = sns.load_dataset(\"titanic\")\n",
    "df = df[df['age'].notna()]\n",
    "data  = df.to_dict(orient='records')\n",
    "\n",
    "scatterplot = ScatterPlot(\n",
    "    data = data,\n",
    "    x = 'age',\n",
    "    y = 'fare',\n",
    "    hue = \"sex\"\n",
    ")\n",
    "\n",
    "barplot = BarPlot(x = 'age', y = 'fare')\n",
    "\n",
    "df2 = sns.load_dataset(\"penguins\")\n",
    "data2  = df2.to_dict(orient='records')\n",
    "histPlot = HistogramPlot(data=data2, x=\"flipper_length_mm\")\n",
    "\n",
    "num_features = ['age']\n",
    "X = df[num_features]\n",
    "y = df['fare']\n",
    "def get_feature_data(feature, value):\n",
    "    clf = RandomForestRegressor(n_estimators=10).fit(X, y)\n",
    "    pd_results = partial_dependence(\n",
    "    clf, X, features=feature, kind=\"average\")\n",
    "    pdp_df = pd.DataFrame({'values': pd_results['values'][0], 'average': pd_results['average'][0]})\n",
    "    pdp_dict = pdp_df.to_dict(orient='records')\n",
    "\n",
    "    array = list(map(lambda item: item[value], pdp_dict))\n",
    "    return array\n",
    "\n",
    "def get_hist_data(feature):\n",
    "    histogramData = df.to_dict(orient='records')\n",
    "    return list(map(lambda item: item[num_features[feature]], histogramData))\n",
    "linearData_x = get_feature_data(0, 'values')\n",
    "linearData_y = get_feature_data(0, 'average')\n",
    "histogramData = get_hist_data(0)\n",
    "linearhist = LinearHistPlot(\n",
    "    linearData_x=linearData_x,\n",
    "    linearData_y=linearData_y,\n",
    "    histogramData=histogramData,\n",
    ")"
   ]
  },
  {
   "cell_type": "code",
   "execution_count": null,
   "id": "05ac8c74-fb55-4901-b611-6bad2aacbfc4",
   "metadata": {},
   "outputs": [],
   "source": [
    "from custom_ipywidgets import Embedding\n",
    "\n",
    "matrix = [\n",
    "    [3, 1, 1, 4], \n",
    "    [3, 1, 1, 4],\n",
    "    [2, 2, 0, 4]\n",
    "]\n",
    "# matrix = [[1,2],[1,2]]\n",
    "embed = Embedding(matrix, style=\"neumorphism\") # style: basic, dark, glassmorphism, neumorphism, minimalism\n",
    "barplot.linkData(scatterplot, \"selectedValues\")\n",
    "embed.add(scatterplot, 4)\n",
    "embed.add(barplot, 2)\n",
    "embed"
   ]
  },
  {
   "cell_type": "code",
   "execution_count": null,
   "id": "219b057a-d66d-46ec-b06a-a9d0f17c631f",
   "metadata": {},
   "outputs": [],
   "source": [
    "embed.add(histPlot, 3)\n",
    "embed.add(linearhist, 1)"
   ]
  },
  {
   "cell_type": "code",
   "execution_count": null,
   "id": "1edd5b7b-b397-49d0-be9b-a03360232dbb",
   "metadata": {},
   "outputs": [],
   "source": [
    "embed.export()"
   ]
  }
 ],
 "metadata": {
  "kernelspec": {
   "display_name": "Python 3 (ipykernel)",
   "language": "python",
   "name": "python3"
  },
  "language_info": {
   "codemirror_mode": {
    "name": "ipython",
    "version": 3
   },
   "file_extension": ".py",
   "mimetype": "text/x-python",
   "name": "python",
   "nbconvert_exporter": "python",
   "pygments_lexer": "ipython3",
   "version": "3.10.12"
  }
 },
 "nbformat": 4,
 "nbformat_minor": 5
}
