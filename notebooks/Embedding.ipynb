{
 "cells": [
  {
   "cell_type": "code",
   "execution_count": null,
   "id": "7e7f6f6e-685d-4e89-a083-7450b37248ce",
   "metadata": {},
   "outputs": [],
   "source": [
    "import seaborn as sns\n",
    "from custom_ipywidgets import BarPlot, ScatterPlot, HistogramPlot, LinearHistPlot\n",
    "from sklearn.inspection import partial_dependence\n",
    "from sklearn.ensemble import RandomForestRegressor\n",
    "import pandas as pd\n",
    "data = sns.load_dataset(\"titanic\")\n",
    "data = data.to_dict(orient='records')\n",
    "barplot = BarPlot(x = \"sex\", y = \"survived\", data = data, hue=\"sex\")\n",
    "\n",
    "data0 = pd.read_csv(\"../data/ScatterPlot/tsne_results.csv\")\n",
    "data0  = data0.to_dict(orient='records')\n",
    "x0 = \"tsne-2d-one\"\n",
    "y0 = \"tsne-2d-two\"\n",
    "hue0 = \"y\"\n",
    "scatterplot = ScatterPlot(\n",
    "    data = data0,\n",
    "    x = x0,\n",
    "    y = y0,\n",
    "    hue = hue0\n",
    ")\n",
    "\n",
    "data1pd = sns.load_dataset(\"titanic\")\n",
    "data1  = data1pd.to_dict(orient='records')\n",
    "# barplot = BarPlot(data = data1, x = \"sex\", y = \"survived\", hue=\"sex\")\n",
    "barplot = BarPlot(x = \"tsne-2d-one\", y = \"tsne-2d-two\")\n",
    "\n",
    "data2pd = sns.load_dataset(\"penguins\")\n",
    "data2  = data2pd.to_dict(orient='records')\n",
    "histPlot = HistogramPlot(data=data2, x=\"flipper_length_mm\")\n",
    "\n",
    "path = '../data/LinearHistPlot/bike.csv'\n",
    "df = pd.read_csv(path)\n",
    "num_features = ['temp', 'hum', 'windspeed']\n",
    "X = df[num_features]\n",
    "y = df['cnt']\n",
    "def get_feature_data(feature, value):\n",
    "    clf = RandomForestRegressor(n_estimators=10).fit(X, y)\n",
    "    pd_results = partial_dependence(\n",
    "    clf, X, features=feature, kind=\"average\")\n",
    "    pdp_df = pd.DataFrame({'grid_values': pd_results['grid_values'][0], 'average': pd_results['average'][0]})\n",
    "    pdp_dict = pdp_df.to_dict(orient='records')\n",
    "\n",
    "    array = list(map(lambda item: item[value], pdp_dict))\n",
    "    return array\n",
    "\n",
    "def get_hist_data(feature):\n",
    "    histogramData = df.to_dict(orient='records')\n",
    "    return list(map(lambda item: item[num_features[feature]], histogramData))\n",
    "linearData_x2 = get_feature_data(2, 'grid_values')\n",
    "linearData_y2 = get_feature_data(2, 'average')\n",
    "histogramData2 = get_hist_data(2)\n",
    "linearhist = LinearHistPlot(\n",
    "    linearData_x=linearData_x2,\n",
    "    linearData_y=linearData_y2,\n",
    "    histogramData=histogramData2,\n",
    ")"
   ]
  },
  {
   "cell_type": "code",
   "execution_count": null,
   "id": "05ac8c74-fb55-4901-b611-6bad2aacbfc4",
   "metadata": {},
   "outputs": [],
   "source": [
    "from custom_ipywidgets import Embedding\n",
    "\n",
    "matrix = [\n",
    "    [3, 1, 1, 4], \n",
    "    [3, 1, 1, 4],\n",
    "    [2, 2, 0, 4]\n",
    "]\n",
    "# matrix = [[1,2],[1,2]]\n",
    "embed = Embedding(matrix, style=\"neumorphism\") # style: basic, dark, glassmorphism, neumorphism, minimalism\n",
    "barplot.linkData(scatterplot, \"selectedValues\")\n",
    "embed.add(scatterplot, 4)\n",
    "embed.add(barplot, 2)\n",
    "embed"
   ]
  },
  {
   "cell_type": "code",
   "execution_count": null,
   "id": "219b057a-d66d-46ec-b06a-a9d0f17c631f",
   "metadata": {},
   "outputs": [],
   "source": [
    "embed.add(histPlot, 3)\n",
    "embed.add(linearhist, 1)"
   ]
  },
  {
   "cell_type": "code",
   "execution_count": null,
   "id": "1edd5b7b-b397-49d0-be9b-a03360232dbb",
   "metadata": {},
   "outputs": [],
   "source": [
    "embed.export()"
   ]
  }
 ],
 "metadata": {
  "kernelspec": {
   "display_name": "Python 3 (ipykernel)",
   "language": "python",
   "name": "python3"
  },
  "language_info": {
   "codemirror_mode": {
    "name": "ipython",
    "version": 3
   },
   "file_extension": ".py",
   "mimetype": "text/x-python",
   "name": "python",
   "nbconvert_exporter": "python",
   "pygments_lexer": "ipython3",
   "version": "3.10.12"
  }
 },
 "nbformat": 4,
 "nbformat_minor": 5
}
