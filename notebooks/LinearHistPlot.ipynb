{
 "cells": [
  {
   "cell_type": "code",
   "execution_count": null,
   "metadata": {},
   "outputs": [],
   "source": [
    "import custom_ipywidgets\n",
    "import pandas as pd\n",
    "from sklearn.inspection import partial_dependence\n",
    "from sklearn.ensemble import RandomForestRegressor"
   ]
  },
  {
   "cell_type": "code",
   "execution_count": null,
   "metadata": {},
   "outputs": [],
   "source": [
    "path = '../data/LinearHistPlot/bike.csv'\n",
    "df = pd.read_csv(path)"
   ]
  },
  {
   "cell_type": "code",
   "execution_count": null,
   "metadata": {},
   "outputs": [],
   "source": [
    "num_features = ['temp', 'hum', 'windspeed']\n",
    "X = df[num_features]\n",
    "y = df['cnt']\n",
    "feature = 0"
   ]
  },
  {
   "cell_type": "code",
   "execution_count": null,
   "metadata": {},
   "outputs": [],
   "source": [
    "def get_feature(feature):\n",
    "    clf = RandomForestRegressor(n_estimators=10).fit(X, y)\n",
    "    pd_results = partial_dependence(\n",
    "    clf, X, features=feature, kind=\"average\")\n",
    "    pdp_df = pd.DataFrame({'grid_values': pd_results['grid_values'][0], 'average': pd_results['average'][0]})\n",
    "    pdp_dict = pdp_df.to_dict(orient='records')\n",
    "    return pdp_dict"
   ]
  },
  {
   "cell_type": "code",
   "execution_count": null,
   "metadata": {},
   "outputs": [],
   "source": [
    "feature = 0\n",
    "data = get_feature(feature)\n",
    "histogramData = df.to_dict(orient='records')\n",
    "\n",
    "linearData_x = list(map(lambda item: item['grid_values'], data))\n",
    "linearData_y = list(map(lambda item: item['average'], data))\n",
    "histogramData = list(map(lambda item: item[num_features[feature]], histogramData))"
   ]
  },
  {
   "cell_type": "code",
   "execution_count": null,
   "metadata": {},
   "outputs": [],
   "source": [
    "linearhist = custom_ipywidgets.LinearHistPlot(\n",
    "    linearData_x=linearData_x,\n",
    "    linearData_y=linearData_y,\n",
    "    histogramData=histogramData,\n",
    ")"
   ]
  },
  {
   "cell_type": "code",
   "execution_count": null,
   "metadata": {},
   "outputs": [],
   "source": [
    "linearhist"
   ]
  }
 ],
 "metadata": {
  "kernelspec": {
   "display_name": "Python 3 (ipykernel)",
   "language": "python",
   "name": "python3"
  },
  "language_info": {
   "codemirror_mode": {
    "name": "ipython",
    "version": 3
   },
   "file_extension": ".py",
   "mimetype": "text/x-python",
   "name": "python",
   "nbconvert_exporter": "python",
   "pygments_lexer": "ipython3",
   "version": "3.10.12"
  }
 },
 "nbformat": 4,
 "nbformat_minor": 4
}
