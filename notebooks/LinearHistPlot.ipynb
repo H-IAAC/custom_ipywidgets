{
 "cells": [
  {
   "cell_type": "markdown",
   "metadata": {},
   "source": [
    "# Descrição"
   ]
  },
  {
   "cell_type": "markdown",
   "metadata": {},
   "source": [
    "## Motivação"
   ]
  },
  {
   "cell_type": "markdown",
   "metadata": {},
   "source": [
    "Este gráfico serve para ilustrar a correlação entre o comportamento de uma variável e a quantidade de amostras em cada ponto da variável."
   ]
  },
  {
   "cell_type": "markdown",
   "metadata": {},
   "source": [
    "## Design"
   ]
  },
  {
   "cell_type": "markdown",
   "metadata": {},
   "source": [
    "Este gráfico foi inspirado no livro [interpretable machine learning](https://christophm.github.io/interpretable-ml-book/pdp.html) capítulo 8.1.1:\n",
    "\n",
    "![](../data/LinearHistPlot/linear_hist_example.PNG)\n",
    "\n",
    "Nestes gráficos a frequêcia das amostras são representadas por linhas na parte de baixo do gráfico. A ideia é substituir as linhas por um histograma contínuo, como a metade de um gráfico de violino deitado."
   ]
  },
  {
   "cell_type": "markdown",
   "metadata": {},
   "source": [
    "## Tipos de dados de entrada"
   ]
  },
  {
   "cell_type": "markdown",
   "metadata": {},
   "source": [
    "- **linearData_x** - Um vetor com os valores do eixo X;\n",
    "- **linearData_y** - Um vetor com os valores do eixo y. Os vetores linearData_x e linearData_y devem ter o mesmo tamanho;\n",
    "- **histogramData** - Um vetor com os valores que serão projetados no eixo X e em sua frequência."
   ]
  },
  {
   "cell_type": "markdown",
   "metadata": {},
   "source": [
    "## Comportamento"
   ]
  },
  {
   "cell_type": "markdown",
   "metadata": {},
   "source": [
    "- O valor de cada ponto deve ser exibido se o mouse passar por cima dele."
   ]
  },
  {
   "cell_type": "markdown",
   "metadata": {},
   "source": [
    "# Dados de entrada"
   ]
  },
  {
   "cell_type": "code",
   "execution_count": null,
   "metadata": {},
   "outputs": [],
   "source": [
    "import pandas as pd\n",
    "from sklearn.inspection import partial_dependence\n",
    "from sklearn.ensemble import RandomForestRegressor"
   ]
  },
  {
   "cell_type": "code",
   "execution_count": null,
   "metadata": {},
   "outputs": [],
   "source": [
    "path = '../data/LinearHistPlot/bike.csv'\n",
    "df = pd.read_csv(path)"
   ]
  },
  {
   "cell_type": "code",
   "execution_count": null,
   "metadata": {},
   "outputs": [],
   "source": [
    "num_features = ['temp', 'hum', 'windspeed']\n",
    "X = df[num_features]\n",
    "y = df['cnt']\n",
    "feature = 0"
   ]
  },
  {
   "cell_type": "code",
   "execution_count": null,
   "metadata": {},
   "outputs": [],
   "source": [
    "def get_feature_data(feature, value):\n",
    "    clf = RandomForestRegressor(n_estimators=10).fit(X, y)\n",
    "    pd_results = partial_dependence(\n",
    "    clf, X, features=feature, kind=\"average\")\n",
    "    pdp_df = pd.DataFrame({'grid_values': pd_results['grid_values'][0], 'average': pd_results['average'][0]})\n",
    "    pdp_dict = pdp_df.to_dict(orient='records')\n",
    "\n",
    "    array = list(map(lambda item: item[value], pdp_dict))\n",
    "    return array\n",
    "\n",
    "def get_hist_data(feature):\n",
    "    histogramData = df.to_dict(orient='records')\n",
    "    return list(map(lambda item: item[num_features[feature]], histogramData))"
   ]
  },
  {
   "cell_type": "code",
   "execution_count": null,
   "metadata": {},
   "outputs": [],
   "source": [
    "linearData_x0 = get_feature_data(0, 'grid_values')\n",
    "linearData_y0 = get_feature_data(0, 'average')\n",
    "histogramData0 = get_hist_data(0)\n",
    "\n",
    "linearData_x1 = get_feature_data(1, 'grid_values')\n",
    "linearData_y1 = get_feature_data(1, 'average')\n",
    "histogramData1 = get_hist_data(1)\n",
    "\n",
    "linearData_x2 = get_feature_data(2, 'grid_values')\n",
    "linearData_y2 = get_feature_data(2, 'average')\n",
    "histogramData2 = get_hist_data(2)"
   ]
  },
  {
   "cell_type": "markdown",
   "metadata": {},
   "source": [
    "# Testes"
   ]
  },
  {
   "cell_type": "code",
   "execution_count": null,
   "metadata": {},
   "outputs": [],
   "source": [
    "import custom_ipywidgets"
   ]
  },
  {
   "cell_type": "code",
   "execution_count": null,
   "metadata": {},
   "outputs": [],
   "source": [
    "linearhist0 = custom_ipywidgets.LinearHistPlot(\n",
    "    linearData_x=linearData_x0,\n",
    "    linearData_y=linearData_y0,\n",
    "    histogramData=histogramData0,\n",
    ")\n",
    "linearhist0"
   ]
  },
  {
   "cell_type": "code",
   "execution_count": null,
   "metadata": {},
   "outputs": [],
   "source": [
    "linearhist1 = custom_ipywidgets.LinearHistPlot(\n",
    "    linearData_x=linearData_x1,\n",
    "    linearData_y=linearData_y1,\n",
    "    histogramData=histogramData1,\n",
    ")\n",
    "linearhist1"
   ]
  },
  {
   "cell_type": "code",
   "execution_count": null,
   "metadata": {},
   "outputs": [],
   "source": [
    "linearhist2 = custom_ipywidgets.LinearHistPlot(\n",
    "    linearData_x=linearData_x2,\n",
    "    linearData_y=linearData_y2,\n",
    "    histogramData=histogramData2,\n",
    ")\n",
    "linearhist2"
   ]
  },
  {
   "cell_type": "markdown",
   "metadata": {},
   "source": [
    "# Bugs e melhorias"
   ]
  },
  {
   "cell_type": "markdown",
   "metadata": {},
   "source": [
    "## Resolvidos"
   ]
  },
  {
   "cell_type": "markdown",
   "metadata": {},
   "source": [
    "## Em progresso"
   ]
  },
  {
   "cell_type": "markdown",
   "metadata": {
    "jp-MarkdownHeadingCollapsed": true
   },
   "source": [
    "### Bug: Valor não aparece quando passo o mouse"
   ]
  },
  {
   "cell_type": "markdown",
   "metadata": {},
   "source": [
    "Valor do ponto deveria aparecer quando passo o mouse mas não está aparecendo."
   ]
  }
 ],
 "metadata": {
  "kernelspec": {
   "display_name": "Python 3 (ipykernel)",
   "language": "python",
   "name": "python3"
  },
  "language_info": {
   "codemirror_mode": {
    "name": "ipython",
    "version": 3
   },
   "file_extension": ".py",
   "mimetype": "text/x-python",
   "name": "python",
   "nbconvert_exporter": "python",
   "pygments_lexer": "ipython3",
   "version": "3.10.12"
  }
 },
 "nbformat": 4,
 "nbformat_minor": 4
}
