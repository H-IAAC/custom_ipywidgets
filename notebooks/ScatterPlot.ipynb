{
 "cells": [
  {
   "cell_type": "markdown",
   "metadata": {},
   "source": [
    "# Descrição"
   ]
  },
  {
   "cell_type": "code",
   "execution_count": 28,
   "metadata": {},
   "outputs": [
    {
     "name": "stderr",
     "output_type": "stream",
     "text": [
      "C:\\Users\\garci\\AppData\\Local\\Temp\\ipykernel_33488\\419788264.py:1: DeprecationWarning: Importing display from IPython.core.display is deprecated since IPython 7.14, please import from IPython display\n",
      "  from IPython.core.display import display, HTML\n"
     ]
    },
    {
     "data": {
      "text/html": [
       "<style>.container { width:1700px !important; } </style>"
      ],
      "text/plain": [
       "<IPython.core.display.HTML object>"
      ]
     },
     "metadata": {},
     "output_type": "display_data"
    }
   ],
   "source": [
    "from IPython.core.display import display, HTML\n",
    "display(HTML(\"<style>.container { width:1700px !important; } </style>\"))"
   ]
  },
  {
   "cell_type": "code",
   "execution_count": 51,
   "metadata": {},
   "outputs": [
    {
     "name": "stdout",
     "output_type": "stream",
     "text": [
      "/* Estilo base */\n",
      "body {\n",
      "    margin: 0;\n",
      "    padding: 0;\n",
      "    font-family: Arial, sans-serif;\n",
      "    background-color: #1A1A1A; /* Fondo oscuro */\n",
      "    color: #CCCCCC; /* Texto claro */\n",
      "  }\n",
      "  \n",
      "  /* Estilos para encabezados */\n",
      "  h1, h2, h3, h4, h5, h6 {\n",
      "    color: #E0E0E0;\n",
      "  }\n",
      "  \n",
      "  /* Estilos para pÃ¡rrafos */\n",
      "  p {\n",
      "    line-height: 1.6;\n",
      "  }\n",
      "  \n",
      "  /* Estilos para enlaces */\n",
      "  a {\n",
      "    color: #4D9FEC;\n",
      "    text-decoration: none;\n",
      "  }\n",
      "  \n",
      "  a:hover {\n",
      "    text-decoration: underline;\n",
      "  }\n",
      "  \n",
      "  /* Estilos para botones */\n",
      "  button {\n",
      "    background-color: #333333;\n",
      "    color: #FFFFFF;\n",
      "    border: none;\n",
      "    padding: 10px 20px;\n",
      "    border-radius: 5px;\n",
      "    cursor: pointer;\n",
      "  }\n",
      "  \n",
      "  button:hover {\n",
      "    background-color: #555555;\n",
      "  }\n",
      "  \n",
      "  /* Estilos para divs */\n",
      "  .dashboard-div {\n",
      "    margin: 2px;\n",
      "    padding: 20px;\n",
      "    border-radius: 10px;\n",
      "    background-color: #262626;\n",
      "    box-shadow: 0 4px 8px rgba(0, 0, 0, 0.5);\n",
      "  }\n",
      "  \n",
      "  /* Estilos para formularios e inputs */\n",
      "  input[type=\"text\"], input[type=\"email\"], input[type=\"password\"] {\n",
      "    width: 100%;\n",
      "    padding: 10px;\n",
      "    margin: 8px 0;\n",
      "    display: inline-block;\n",
      "    border: 1px solid #ccc;\n",
      "    border-radius: 4px;\n",
      "    box-sizing: border-box;\n",
      "    background-color: #333333;\n",
      "    color: #FFFFFF;\n",
      "  }\n",
      "  \n",
      "  input[type=\"submit\"] {\n",
      "    width: 100%;\n",
      "    background-color: #4D9FEC;\n",
      "    color: white;\n",
      "    padding: 14px 20px;\n",
      "    margin: 8px 0;\n",
      "    border: none;\n",
      "    border-radius: 4px;\n",
      "    cursor: pointer;\n",
      "  }\n",
      "  \n",
      "  input[type=\"submit\"]:hover {\n",
      "    background-color: #3079ED;\n",
      "  }\n",
      "  \n",
      "<!DOCTYPE html>\n",
      "            <html lang=\"en\">\n",
      "            <head>\n",
      "                <meta charset=\"UTF-8\">\n",
      "                <meta name=\"viewport\" content=\"width=device-width, initial-scale=1.0\">\n",
      "                <title>Prueba</title>\n",
      "                <style>\n",
      ".dashboard-container { display: grid; grid-template-columns: repeat(4, 1fr); height: 100vh; }\n",
      "#div1 { grid-area: 1 / 1 / 4 / 2; }\n",
      "#div2 { grid-area: 1 / 2 / 2 / 4; }\n",
      "#div3 { grid-area: 1 / 4 / 2 / 5; }\n",
      "#div4 { grid-area: 2 / 2 / 3 / 5; }\n",
      "#div5 { grid-area: 3 / 2 / 4 / 5; }\n",
      ".dashboard-div { margin: 5px; padding: 5px;  border-radius: 10px; border-color:green;   background: rgb(255, 254, 254);    border: 1px solid rgb(255, 255, 255);    backdrop-filter: blur(10px);    box-shadow: 0 5px 7px rgba(0, 0, 0, 0.1); }\n",
      "\n",
      "                {bundle}\n",
      "            \n",
      "</style>\n",
      "             <link rel=\"stylesheet\" href='dark.css'>\n",
      "            </head>\n",
      "            <body>\n",
      "<div class=\"dashboard-container\">\n",
      "<div id=\"div1\" class=\"dashboard-div\">Div 1</div>\n",
      "<div id=\"div2\" class=\"dashboard-div\">Div 2</div>\n",
      "<div id=\"div3\" class=\"dashboard-div\">Div 3</div>\n",
      "<div id=\"div4\" class=\"dashboard-div\">Div 4</div>\n",
      "<div id=\"div5\" class=\"dashboard-div\">Div 5</div>\n",
      "</div>\n",
      "            \n",
      "</body>\n",
      "            </html>\n",
      "            \n"
     ]
    }
   ],
   "source": [
    "def Id_Generator():\n",
    "  \"\"\"Function to generate random divs ids. This generation is based on their\n",
    "  number of div in the matrix\"\"\"\n",
    "  pass\n",
    "\n",
    "def Generate_html_css(matrix):\n",
    "  \"\"\"Funtion to generate divs into a container, the distribution of divs depends a matrix\"\"\"\n",
    "  rows = len(matrix)\n",
    "  cols = max(len(row) for row in matrix)\n",
    "  html_output = '<div class=\"dashboard-container\">\\n'\n",
    "  css_output = (\".dashboard-container { display: grid; grid-template-columns: repeat(%d, 1fr); height: 100vh; }\\n\" % cols)\n",
    "\n",
    "  # Generate HTML y CSS\n",
    "  for i in range(1, max(sum(matrix, [])) + 1):\n",
    "      html_output += f'<div id=\"div{i}\" class=\"dashboard-div\">Div {i}</div>\\n'\n",
    "      positions = [(r+1, c+1) for r, row in enumerate(matrix) for c, val in enumerate(row) if val == i]\n",
    "      grid_area = f\"{positions[0][0]} / {positions[0][1]} / {positions[-1][0] + 1} / {positions[-1][1] + 1}\"\n",
    "      css_output += f\"#div{i} {{ grid-area: {grid_area}; }}\\n\"\n",
    "\n",
    "  html_output += '</div>'\n",
    "  css_output += \".dashboard-div { margin: 5px; padding: 5px;  border-radius: 10px; border-color:green;   background: rgb(255, 254, 254);    border: 1px solid rgb(255, 255, 255);    backdrop-filter: blur(10px);    box-shadow: 0 5px 7px rgba(0, 0, 0, 0.1); }\\n\"\n",
    "  return html_output, css_output\n",
    "\n",
    "def make_html(matrix,title = \"\",css_file ='basic.css'):\n",
    "  html_output, css_output = Generate_html_css(matrix)\n",
    "  bundle = open(css_file).read()\n",
    "  print(bundle)\n",
    "  html_all = \"\"\"<!DOCTYPE html>\n",
    "            <html lang=\"en\">\n",
    "            <head>\n",
    "                <meta charset=\"UTF-8\">\n",
    "                <meta name=\"viewport\" content=\"width=device-width, initial-scale=1.0\">\n",
    "                <title>\"\"\"+ title+ \"\"\"</title>\n",
    "                <style>\\n\"\"\"+css_output+\"\"\"\n",
    "                {bundle}\n",
    "            \\n</style>\n",
    "             <link rel=\"stylesheet\" href='\"\"\"+css_file+ \"\"\"'>\n",
    "            </head>\n",
    "            <body>\\n\"\"\"+html_output+\"\"\"\n",
    "            \\n</body>\n",
    "            </html>\n",
    "            \"\"\"\n",
    "  return html_all\n",
    "\n",
    "matrix = [[1, 2, 2, 3],\n",
    "          [1, 4, 4,4],\n",
    "           [1,5,5,5]]\n",
    "html = make_html(matrix,title=\"Prueba\",css_file=\"neumorphism.css\") # basic, dark, glassmorphism, neumorphism, minimalism\n",
    "print(html)"
   ]
  },
  {
   "cell_type": "code",
   "execution_count": 52,
   "metadata": {},
   "outputs": [
    {
     "data": {
      "text/html": [
       "<!DOCTYPE html>\n",
       "            <html lang=\"en\">\n",
       "            <head>\n",
       "                <meta charset=\"UTF-8\">\n",
       "                <meta name=\"viewport\" content=\"width=device-width, initial-scale=1.0\">\n",
       "                <title>Prueba</title>\n",
       "                <style>\n",
       ".dashboard-container { display: grid; grid-template-columns: repeat(4, 1fr); height: 100vh; }\n",
       "#div1 { grid-area: 1 / 1 / 4 / 2; }\n",
       "#div2 { grid-area: 1 / 2 / 2 / 4; }\n",
       "#div3 { grid-area: 1 / 4 / 2 / 5; }\n",
       "#div4 { grid-area: 2 / 2 / 3 / 5; }\n",
       "#div5 { grid-area: 3 / 2 / 4 / 5; }\n",
       ".dashboard-div { margin: 5px; padding: 5px;  border-radius: 10px; border-color:green;   background: rgb(255, 254, 254);    border: 1px solid rgb(255, 255, 255);    backdrop-filter: blur(10px);    box-shadow: 0 5px 7px rgba(0, 0, 0, 0.1); }\n",
       "\n",
       "                {bundle}\n",
       "            \n",
       "</style>\n",
       "             <link rel=\"stylesheet\" href='dark.css'>\n",
       "            </head>\n",
       "            <body>\n",
       "<div class=\"dashboard-container\">\n",
       "<div id=\"div1\" class=\"dashboard-div\">Div 1</div>\n",
       "<div id=\"div2\" class=\"dashboard-div\">Div 2</div>\n",
       "<div id=\"div3\" class=\"dashboard-div\">Div 3</div>\n",
       "<div id=\"div4\" class=\"dashboard-div\">Div 4</div>\n",
       "<div id=\"div5\" class=\"dashboard-div\">Div 5</div>\n",
       "</div>\n",
       "            \n",
       "</body>\n",
       "            </html>\n",
       "            "
      ],
      "text/plain": [
       "<IPython.core.display.HTML object>"
      ]
     },
     "metadata": {},
     "output_type": "display_data"
    }
   ],
   "source": [
    "display(HTML(html))"
   ]
  },
  {
   "cell_type": "markdown",
   "metadata": {},
   "source": [
    "## Motivação"
   ]
  },
  {
   "cell_type": "markdown",
   "metadata": {},
   "source": [
    "## Design"
   ]
  },
  {
   "cell_type": "markdown",
   "metadata": {},
   "source": [
    "## Comportamento"
   ]
  },
  {
   "cell_type": "markdown",
   "metadata": {},
   "source": [
    "# Dados de entrada"
   ]
  },
  {
   "cell_type": "code",
   "execution_count": 38,
   "metadata": {},
   "outputs": [
    {
     "data": {
      "text/html": [
       "<div>\n",
       "<style scoped>\n",
       "    .dataframe tbody tr th:only-of-type {\n",
       "        vertical-align: middle;\n",
       "    }\n",
       "\n",
       "    .dataframe tbody tr th {\n",
       "        vertical-align: top;\n",
       "    }\n",
       "\n",
       "    .dataframe thead th {\n",
       "        text-align: right;\n",
       "    }\n",
       "</style>\n",
       "<table border=\"1\" class=\"dataframe\">\n",
       "  <thead>\n",
       "    <tr style=\"text-align: right;\">\n",
       "      <th></th>\n",
       "      <th>Unnamed: 0</th>\n",
       "      <th>tsne-2d-one</th>\n",
       "      <th>tsne-2d-two</th>\n",
       "      <th>y</th>\n",
       "    </tr>\n",
       "  </thead>\n",
       "  <tbody>\n",
       "    <tr>\n",
       "      <th>0</th>\n",
       "      <td>0</td>\n",
       "      <td>21.177652</td>\n",
       "      <td>12.967052</td>\n",
       "      <td>0.0</td>\n",
       "    </tr>\n",
       "    <tr>\n",
       "      <th>1</th>\n",
       "      <td>1</td>\n",
       "      <td>-19.733818</td>\n",
       "      <td>-3.371461</td>\n",
       "      <td>0.0</td>\n",
       "    </tr>\n",
       "    <tr>\n",
       "      <th>2</th>\n",
       "      <td>2</td>\n",
       "      <td>-25.561794</td>\n",
       "      <td>-7.105506</td>\n",
       "      <td>0.0</td>\n",
       "    </tr>\n",
       "    <tr>\n",
       "      <th>3</th>\n",
       "      <td>3</td>\n",
       "      <td>24.308123</td>\n",
       "      <td>6.073281</td>\n",
       "      <td>0.0</td>\n",
       "    </tr>\n",
       "    <tr>\n",
       "      <th>4</th>\n",
       "      <td>4</td>\n",
       "      <td>12.883739</td>\n",
       "      <td>-16.195847</td>\n",
       "      <td>0.0</td>\n",
       "    </tr>\n",
       "  </tbody>\n",
       "</table>\n",
       "</div>"
      ],
      "text/plain": [
       "   Unnamed: 0  tsne-2d-one  tsne-2d-two    y\n",
       "0           0    21.177652    12.967052  0.0\n",
       "1           1   -19.733818    -3.371461  0.0\n",
       "2           2   -25.561794    -7.105506  0.0\n",
       "3           3    24.308123     6.073281  0.0\n",
       "4           4    12.883739   -16.195847  0.0"
      ]
     },
     "metadata": {},
     "output_type": "display_data"
    }
   ],
   "source": [
    "import pandas as pd\n",
    "data0 = pd.read_csv(\"../data/ScatterPlot/tsne_results.csv\")\n",
    "display(data0.head())\n",
    "data0  = data0.to_dict(orient='records')\n",
    "#data0 = data0[:10]\n",
    "x0 = \"tsne-2d-one\"\n",
    "y0 = \"tsne-2d-two\"\n",
    "hue0 = \"y\""
   ]
  },
  {
   "cell_type": "markdown",
   "metadata": {},
   "source": [
    "# Testes"
   ]
  },
  {
   "cell_type": "code",
   "execution_count": 39,
   "metadata": {},
   "outputs": [],
   "source": [
    "from custom_ipywidgets import ScatterPlot "
   ]
  },
  {
   "cell_type": "code",
   "execution_count": 49,
   "metadata": {},
   "outputs": [
    {
     "data": {
      "application/vnd.jupyter.widget-view+json": {
       "model_id": "8321127aff5441ae9c6ba26c95205122",
       "version_major": 2,
       "version_minor": 0
      },
      "text/plain": [
       "ScatterPlot(ContainerID='div5', data=[{'Unnamed: 0': 0, 'tsne-2d-one': 21.177652, 'tsne-2d-two': 12.9670515, '…"
      ]
     },
     "execution_count": 49,
     "metadata": {},
     "output_type": "execute_result"
    }
   ],
   "source": [
    "scatterplot0 = ScatterPlot(\n",
    "    data = data0,\n",
    "    x = x0,\n",
    "    y = y0,\n",
    "    hue = hue0,\n",
    "    ContainerID = 'div5'\n",
    ")\n",
    "scatterplot0"
   ]
  },
  {
   "cell_type": "code",
   "execution_count": 43,
   "metadata": {},
   "outputs": [
    {
     "data": {
      "application/vnd.jupyter.widget-view+json": {
       "model_id": "48185a63a1604c29aa51e56a0c69cf1d",
       "version_major": 2,
       "version_minor": 0
      },
      "text/plain": [
       "ScatterPlot(ContainerID='div4', data=[{'Unnamed: 0': 0, 'tsne-2d-one': 21.177652, 'tsne-2d-two': 12.9670515, '…"
      ]
     },
     "execution_count": 43,
     "metadata": {},
     "output_type": "execute_result"
    }
   ],
   "source": [
    "scatterplot1 = ScatterPlot(\n",
    "    data = data0,\n",
    "    x = x0,\n",
    "    y = y0,\n",
    "    hue = hue0,\n",
    "    ContainerID = 'div4'\n",
    ")\n",
    "scatterplot1"
   ]
  },
  {
   "cell_type": "code",
   "execution_count": 50,
   "metadata": {},
   "outputs": [
    {
     "data": {
      "application/vnd.jupyter.widget-view+json": {
       "model_id": "362cfd8d38e04e8789bf60db111eba77",
       "version_major": 2,
       "version_minor": 0
      },
      "text/plain": [
       "ScatterPlot(ContainerID='div1', data=[{'Unnamed: 0': 0, 'tsne-2d-one': 21.177652, 'tsne-2d-two': 12.9670515, '…"
      ]
     },
     "execution_count": 50,
     "metadata": {},
     "output_type": "execute_result"
    }
   ],
   "source": [
    "scatterplot2 = ScatterPlot(\n",
    "    data = data0,\n",
    "    x = x0,\n",
    "    y = y0,\n",
    "    hue = hue0,\n",
    "    ContainerID = 'div1'\n",
    ")\n",
    "scatterplot2"
   ]
  },
  {
   "cell_type": "code",
   "execution_count": 41,
   "metadata": {},
   "outputs": [
    {
     "data": {
      "text/plain": [
       "''"
      ]
     },
     "execution_count": 41,
     "metadata": {},
     "output_type": "execute_result"
    }
   ],
   "source": [
    "scatterplot0.clickedValue"
   ]
  },
  {
   "cell_type": "code",
   "execution_count": 42,
   "metadata": {},
   "outputs": [
    {
     "data": {
      "text/plain": [
       "[{'Unnamed: 0': 2,\n",
       "  'tsne-2d-one': -25.561794,\n",
       "  'tsne-2d-two': -7.1055064,\n",
       "  'y': 0,\n",
       "  'id': 2},\n",
       " {'Unnamed: 0': 7,\n",
       "  'tsne-2d-one': -34.083588,\n",
       "  'tsne-2d-two': -7.290354,\n",
       "  'y': 0,\n",
       "  'id': 7},\n",
       " {'Unnamed: 0': 9,\n",
       "  'tsne-2d-one': -35.1585,\n",
       "  'tsne-2d-two': -6.056107,\n",
       "  'y': 0,\n",
       "  'id': 9},\n",
       " {'Unnamed: 0': 20,\n",
       "  'tsne-2d-one': -32.457664,\n",
       "  'tsne-2d-two': -7.3530445,\n",
       "  'y': 0,\n",
       "  'id': 20},\n",
       " {'Unnamed: 0': 22,\n",
       "  'tsne-2d-one': -33.462887,\n",
       "  'tsne-2d-two': -5.677884,\n",
       "  'y': 0,\n",
       "  'id': 22},\n",
       " {'Unnamed: 0': 36,\n",
       "  'tsne-2d-one': -23.468336,\n",
       "  'tsne-2d-two': -6.3436913,\n",
       "  'y': 0,\n",
       "  'id': 36},\n",
       " {'Unnamed: 0': 46,\n",
       "  'tsne-2d-one': -33.098625,\n",
       "  'tsne-2d-two': -6.0183434,\n",
       "  'y': 0,\n",
       "  'id': 46},\n",
       " {'Unnamed: 0': 61,\n",
       "  'tsne-2d-one': -23.8003,\n",
       "  'tsne-2d-two': -5.837365,\n",
       "  'y': 0,\n",
       "  'id': 61},\n",
       " {'Unnamed: 0': 118,\n",
       "  'tsne-2d-one': -34.172638,\n",
       "  'tsne-2d-two': -5.5188065,\n",
       "  'y': 0,\n",
       "  'id': 118},\n",
       " {'Unnamed: 0': 125,\n",
       "  'tsne-2d-one': -29.420872,\n",
       "  'tsne-2d-two': -6.2158227,\n",
       "  'y': 0,\n",
       "  'id': 125},\n",
       " {'Unnamed: 0': 127,\n",
       "  'tsne-2d-one': -25.138254,\n",
       "  'tsne-2d-two': -7.3112555,\n",
       "  'y': 0,\n",
       "  'id': 127},\n",
       " {'Unnamed: 0': 134,\n",
       "  'tsne-2d-one': -29.373669,\n",
       "  'tsne-2d-two': -6.536463,\n",
       "  'y': 0,\n",
       "  'id': 134},\n",
       " {'Unnamed: 0': 136,\n",
       "  'tsne-2d-one': -29.442347,\n",
       "  'tsne-2d-two': -5.7010174,\n",
       "  'y': 0,\n",
       "  'id': 136},\n",
       " {'Unnamed: 0': 144,\n",
       "  'tsne-2d-one': -25.744286,\n",
       "  'tsne-2d-two': -6.6633697,\n",
       "  'y': 0,\n",
       "  'id': 144},\n",
       " {'Unnamed: 0': 151,\n",
       "  'tsne-2d-one': -36.435555,\n",
       "  'tsne-2d-two': -5.870713,\n",
       "  'y': 0,\n",
       "  'id': 151},\n",
       " {'Unnamed: 0': 165,\n",
       "  'tsne-2d-one': -26.984821,\n",
       "  'tsne-2d-two': -5.6500506,\n",
       "  'y': 0,\n",
       "  'id': 165},\n",
       " {'Unnamed: 0': 175,\n",
       "  'tsne-2d-one': -30.40689,\n",
       "  'tsne-2d-two': -7.0474434,\n",
       "  'y': 0,\n",
       "  'id': 175},\n",
       " {'Unnamed: 0': 185,\n",
       "  'tsne-2d-one': -36.9029,\n",
       "  'tsne-2d-two': -5.970773,\n",
       "  'y': 0,\n",
       "  'id': 185},\n",
       " {'Unnamed: 0': 188,\n",
       "  'tsne-2d-one': -34.885887,\n",
       "  'tsne-2d-two': -6.7408805,\n",
       "  'y': 0,\n",
       "  'id': 188},\n",
       " {'Unnamed: 0': 197,\n",
       "  'tsne-2d-one': -26.555212,\n",
       "  'tsne-2d-two': -5.2660294,\n",
       "  'y': 0,\n",
       "  'id': 197},\n",
       " {'Unnamed: 0': 204,\n",
       "  'tsne-2d-one': -32.213875,\n",
       "  'tsne-2d-two': -6.2165675,\n",
       "  'y': 0,\n",
       "  'id': 204},\n",
       " {'Unnamed: 0': 208,\n",
       "  'tsne-2d-one': -33.388454,\n",
       "  'tsne-2d-two': -6.4807706,\n",
       "  'y': 0,\n",
       "  'id': 208},\n",
       " {'Unnamed: 0': 209,\n",
       "  'tsne-2d-one': -32.690968,\n",
       "  'tsne-2d-two': -5.991115,\n",
       "  'y': 0,\n",
       "  'id': 209},\n",
       " {'Unnamed: 0': 212,\n",
       "  'tsne-2d-one': -29.25935,\n",
       "  'tsne-2d-two': -4.958477,\n",
       "  'y': 0,\n",
       "  'id': 212},\n",
       " {'Unnamed: 0': 213,\n",
       "  'tsne-2d-one': -24.00517,\n",
       "  'tsne-2d-two': -6.766501,\n",
       "  'y': 0,\n",
       "  'id': 213},\n",
       " {'Unnamed: 0': 231,\n",
       "  'tsne-2d-one': -37.410103,\n",
       "  'tsne-2d-two': -5.8849993,\n",
       "  'y': 0,\n",
       "  'id': 231},\n",
       " {'Unnamed: 0': 232,\n",
       "  'tsne-2d-one': -26.78988,\n",
       "  'tsne-2d-two': -6.2967424,\n",
       "  'y': 0,\n",
       "  'id': 232},\n",
       " {'Unnamed: 0': 250,\n",
       "  'tsne-2d-one': -32.49259,\n",
       "  'tsne-2d-two': -5.794862,\n",
       "  'y': 0,\n",
       "  'id': 250},\n",
       " {'Unnamed: 0': 258,\n",
       "  'tsne-2d-one': -29.399317,\n",
       "  'tsne-2d-two': -7.9254365,\n",
       "  'y': 1,\n",
       "  'id': 258},\n",
       " {'Unnamed: 0': 265,\n",
       "  'tsne-2d-one': -23.51653,\n",
       "  'tsne-2d-two': -7.5306168,\n",
       "  'y': 1,\n",
       "  'id': 265},\n",
       " {'Unnamed: 0': 333,\n",
       "  'tsne-2d-one': -30.344868,\n",
       "  'tsne-2d-two': -7.406029,\n",
       "  'y': 1,\n",
       "  'id': 333},\n",
       " {'Unnamed: 0': 347,\n",
       "  'tsne-2d-one': -32.587826,\n",
       "  'tsne-2d-two': -7.128761,\n",
       "  'y': 1,\n",
       "  'id': 347},\n",
       " {'Unnamed: 0': 364,\n",
       "  'tsne-2d-one': -33.572067,\n",
       "  'tsne-2d-two': -7.303415,\n",
       "  'y': 1,\n",
       "  'id': 364},\n",
       " {'Unnamed: 0': 366,\n",
       "  'tsne-2d-one': -29.370173,\n",
       "  'tsne-2d-two': -7.5892754,\n",
       "  'y': 1,\n",
       "  'id': 366},\n",
       " {'Unnamed: 0': 371,\n",
       "  'tsne-2d-one': -31.128143,\n",
       "  'tsne-2d-two': -7.2142477,\n",
       "  'y': 1,\n",
       "  'id': 371},\n",
       " {'Unnamed: 0': 374,\n",
       "  'tsne-2d-one': -29.513783,\n",
       "  'tsne-2d-two': -7.024724,\n",
       "  'y': 1,\n",
       "  'id': 374},\n",
       " {'Unnamed: 0': 384,\n",
       "  'tsne-2d-one': -32.563198,\n",
       "  'tsne-2d-two': -7.6467705,\n",
       "  'y': 1,\n",
       "  'id': 384},\n",
       " {'Unnamed: 0': 431,\n",
       "  'tsne-2d-one': -30.25719,\n",
       "  'tsne-2d-two': -7.757314,\n",
       "  'y': 1,\n",
       "  'id': 431},\n",
       " {'Unnamed: 0': 436,\n",
       "  'tsne-2d-one': -24.392336,\n",
       "  'tsne-2d-two': -7.4400945,\n",
       "  'y': 1,\n",
       "  'id': 436},\n",
       " {'Unnamed: 0': 458,\n",
       "  'tsne-2d-one': -22.374086,\n",
       "  'tsne-2d-two': -5.22811,\n",
       "  'y': 1,\n",
       "  'id': 458},\n",
       " {'Unnamed: 0': 473,\n",
       "  'tsne-2d-one': -29.398195,\n",
       "  'tsne-2d-two': -8.139326,\n",
       "  'y': 1,\n",
       "  'id': 473},\n",
       " {'Unnamed: 0': 490,\n",
       "  'tsne-2d-one': -27.83801,\n",
       "  'tsne-2d-two': -5.4534926,\n",
       "  'y': 0,\n",
       "  'id': 490},\n",
       " {'Unnamed: 0': 499,\n",
       "  'tsne-2d-one': -34.49476,\n",
       "  'tsne-2d-two': -7.395884,\n",
       "  'y': 0,\n",
       "  'id': 499},\n",
       " {'Unnamed: 0': 510,\n",
       "  'tsne-2d-one': -29.098482,\n",
       "  'tsne-2d-two': -8.366389,\n",
       "  'y': 0,\n",
       "  'id': 510},\n",
       " {'Unnamed: 0': 511,\n",
       "  'tsne-2d-one': -28.689573,\n",
       "  'tsne-2d-two': -5.4438534,\n",
       "  'y': 0,\n",
       "  'id': 511},\n",
       " {'Unnamed: 0': 522,\n",
       "  'tsne-2d-one': -24.88505,\n",
       "  'tsne-2d-two': -6.7751985,\n",
       "  'y': 0,\n",
       "  'id': 522},\n",
       " {'Unnamed: 0': 523,\n",
       "  'tsne-2d-one': -28.971682,\n",
       "  'tsne-2d-two': -7.6021786,\n",
       "  'y': 1,\n",
       "  'id': 523},\n",
       " {'Unnamed: 0': 551,\n",
       "  'tsne-2d-one': -33.315388,\n",
       "  'tsne-2d-two': -5.433281,\n",
       "  'y': 0,\n",
       "  'id': 551},\n",
       " {'Unnamed: 0': 553,\n",
       "  'tsne-2d-one': -34.143967,\n",
       "  'tsne-2d-two': -6.24289,\n",
       "  'y': 0,\n",
       "  'id': 553},\n",
       " {'Unnamed: 0': 555,\n",
       "  'tsne-2d-one': -28.516283,\n",
       "  'tsne-2d-two': -5.7212687,\n",
       "  'y': 0,\n",
       "  'id': 555},\n",
       " {'Unnamed: 0': 569,\n",
       "  'tsne-2d-one': -36.147285,\n",
       "  'tsne-2d-two': -6.273679,\n",
       "  'y': 0,\n",
       "  'id': 569},\n",
       " {'Unnamed: 0': 573,\n",
       "  'tsne-2d-one': -34.812164,\n",
       "  'tsne-2d-two': -5.568635,\n",
       "  'y': 0,\n",
       "  'id': 573},\n",
       " {'Unnamed: 0': 574,\n",
       "  'tsne-2d-one': -35.117477,\n",
       "  'tsne-2d-two': -7.204434,\n",
       "  'y': 0,\n",
       "  'id': 574},\n",
       " {'Unnamed: 0': 579,\n",
       "  'tsne-2d-one': -30.950518,\n",
       "  'tsne-2d-two': -5.9636345,\n",
       "  'y': 0,\n",
       "  'id': 579},\n",
       " {'Unnamed: 0': 586,\n",
       "  'tsne-2d-one': -29.24237,\n",
       "  'tsne-2d-two': -4.9130316,\n",
       "  'y': 0,\n",
       "  'id': 586},\n",
       " {'Unnamed: 0': 590,\n",
       "  'tsne-2d-one': -32.358185,\n",
       "  'tsne-2d-two': -6.782912,\n",
       "  'y': 0,\n",
       "  'id': 590},\n",
       " {'Unnamed: 0': 597,\n",
       "  'tsne-2d-one': -27.889782,\n",
       "  'tsne-2d-two': -7.6826487,\n",
       "  'y': 0,\n",
       "  'id': 597},\n",
       " {'Unnamed: 0': 598,\n",
       "  'tsne-2d-one': -24.342379,\n",
       "  'tsne-2d-two': -7.2130904,\n",
       "  'y': 0,\n",
       "  'id': 598},\n",
       " {'Unnamed: 0': 627,\n",
       "  'tsne-2d-one': -29.493347,\n",
       "  'tsne-2d-two': -6.082225,\n",
       "  'y': 1,\n",
       "  'id': 627},\n",
       " {'Unnamed: 0': 630,\n",
       "  'tsne-2d-one': -25.085487,\n",
       "  'tsne-2d-two': -6.934831,\n",
       "  'y': 1,\n",
       "  'id': 630},\n",
       " {'Unnamed: 0': 688,\n",
       "  'tsne-2d-one': -23.97843,\n",
       "  'tsne-2d-two': -7.5622506,\n",
       "  'y': 1,\n",
       "  'id': 688}]"
      ]
     },
     "execution_count": 42,
     "metadata": {},
     "output_type": "execute_result"
    }
   ],
   "source": [
    "scatterplot0.selectedValues"
   ]
  },
  {
   "cell_type": "code",
   "execution_count": null,
   "metadata": {},
   "outputs": [],
   "source": [
    "scatterplot0.export()"
   ]
  },
  {
   "cell_type": "markdown",
   "metadata": {},
   "source": [
    "# Bugs e melhorias"
   ]
  },
  {
   "cell_type": "markdown",
   "metadata": {},
   "source": [
    "## Resolvidos"
   ]
  },
  {
   "cell_type": "code",
   "execution_count": null,
   "metadata": {},
   "outputs": [],
   "source": []
  },
  {
   "cell_type": "markdown",
   "metadata": {},
   "source": [
    "## Em progresso"
   ]
  }
 ],
 "metadata": {
  "kernelspec": {
   "display_name": "Python 3 (ipykernel)",
   "language": "python",
   "name": "python3"
  },
  "language_info": {
   "codemirror_mode": {
    "name": "ipython",
    "version": 3
   },
   "file_extension": ".py",
   "mimetype": "text/x-python",
   "name": "python",
   "nbconvert_exporter": "python",
   "pygments_lexer": "ipython3",
   "version": "3.10.4"
  }
 },
 "nbformat": 4,
 "nbformat_minor": 4
}
